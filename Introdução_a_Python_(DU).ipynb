{
  "nbformat": 4,
  "nbformat_minor": 0,
  "metadata": {
    "colab": {
      "provenance": [],
      "authorship_tag": "ABX9TyPW71013g8J1gQ/+Y5gY8ef",
      "include_colab_link": true
    },
    "kernelspec": {
      "name": "python3",
      "display_name": "Python 3"
    },
    "language_info": {
      "name": "python"
    }
  },
  "cells": [
    {
      "cell_type": "markdown",
      "metadata": {
        "id": "view-in-github",
        "colab_type": "text"
      },
      "source": [
        "<a href=\"https://colab.research.google.com/github/eduardosalvador83/Portfolio-Eduardo-Salvador/blob/main/Introdu%C3%A7%C3%A3o_a_Python_(DU).ipynb\" target=\"_parent\"><img src=\"https://colab.research.google.com/assets/colab-badge.svg\" alt=\"Open In Colab\"/></a>"
      ]
    },
    {
      "cell_type": "markdown",
      "source": [
        "## Aula 1\n"
      ],
      "metadata": {
        "id": "pQehVuUaXtkn"
      }
    },
    {
      "cell_type": "code",
      "execution_count": 1,
      "metadata": {
        "colab": {
          "base_uri": "https://localhost:8080/"
        },
        "id": "qF4R4eHeBdeI",
        "outputId": "ed118c86-dcb6-4df5-db1d-e0e6d9dce5d3"
      },
      "outputs": [
        {
          "output_type": "stream",
          "name": "stdout",
          "text": [
            "Primeira competição de programação dá start,Escola Pinheiro Junior\n"
          ]
        }
      ],
      "source": [
        "print(\"Primeira competição de programação dá start,Escola Pinheiro Junior\")"
      ]
    },
    {
      "cell_type": "code",
      "source": [
        "ano = \"2025\""
      ],
      "metadata": {
        "id": "Hrf3R1pnDNo9"
      },
      "execution_count": 2,
      "outputs": []
    },
    {
      "cell_type": "code",
      "source": [
        "print(ano, \"Competição de programação da estática,Escola Pinheiro Junior\")"
      ],
      "metadata": {
        "colab": {
          "base_uri": "https://localhost:8080/"
        },
        "id": "a2gyVfkDDobe",
        "outputId": "46b602b5-fcd7-4d8a-f72e-b3035dd61bf8"
      },
      "execution_count": 3,
      "outputs": [
        {
          "output_type": "stream",
          "name": "stdout",
          "text": [
            "2025 Competição de programação da estática,Escola Pinheiro Junior\n"
          ]
        }
      ]
    },
    {
      "cell_type": "code",
      "source": [
        "print(f\"{ano} Competição de programação da start\")"
      ],
      "metadata": {
        "id": "_GV1eN_xDywh",
        "outputId": "8a1ec117-a0e2-4c7b-a5ad-295baa00265a",
        "colab": {
          "base_uri": "https://localhost:8080/"
        }
      },
      "execution_count": 4,
      "outputs": [
        {
          "output_type": "stream",
          "name": "stdout",
          "text": [
            "2025 Competição de programação da start\n"
          ]
        }
      ]
    },
    {
      "cell_type": "markdown",
      "source": [
        "## Aula 2\n"
      ],
      "metadata": {
        "id": "OKUIt9TsYErK"
      }
    },
    {
      "cell_type": "markdown",
      "source": [
        "Uma escola está promovendo uma campanha de incentivo à leitura em que cada estudante recebe pontos ao concluir livros. Esses pontos podem ser trocados por diferentes prêmios da escola, e as categorias de livros têm valores de pontos diferentes. Livros de ficção valem 8 pontos, livros de não ficção valem 8 pontos, e livros infantis valem 6 pontos. O problema é que Rodrigo leu um livro de cada categoria e agora quer saber quantos pontos acumulou com sua leitura."
      ],
      "metadata": {
        "id": "sl768h1BYZ9d"
      }
    },
    {
      "cell_type": "code",
      "source": [
        "livro_ficcao = 8"
      ],
      "metadata": {
        "id": "lIVIP3D5erHy"
      },
      "execution_count": 5,
      "outputs": []
    },
    {
      "cell_type": "code",
      "source": [
        "livro_n_ficcao = 8"
      ],
      "metadata": {
        "id": "ujx9x_8Qey5U"
      },
      "execution_count": 6,
      "outputs": []
    },
    {
      "cell_type": "code",
      "source": [
        "livro_infantil = 6"
      ],
      "metadata": {
        "id": "crdMFzNye1wR"
      },
      "execution_count": 7,
      "outputs": []
    },
    {
      "cell_type": "code",
      "source": [
        "pontos_rodrigo = livro_ficcao + livro_n_ficcao + livro_infantil"
      ],
      "metadata": {
        "id": "mv5C9qTBe7JA"
      },
      "execution_count": 8,
      "outputs": []
    },
    {
      "cell_type": "code",
      "source": [
        "print(pontos_rodrigo)"
      ],
      "metadata": {
        "colab": {
          "base_uri": "https://localhost:8080/"
        },
        "id": "CerPZYlxe-F2",
        "outputId": "3eda4376-d3d1-44ae-f701-a9dc8570d1d9"
      },
      "execution_count": 9,
      "outputs": [
        {
          "output_type": "stream",
          "name": "stdout",
          "text": [
            "22\n"
          ]
        }
      ]
    },
    {
      "cell_type": "code",
      "source": [
        "print(f\"Os pontos totais do Rodrigo são {pontos_rodrigo}\")"
      ],
      "metadata": {
        "colab": {
          "base_uri": "https://localhost:8080/"
        },
        "id": "mepn1dLRfBYR",
        "outputId": "ab4a2f15-abab-47ee-d5fe-57215580a3ad"
      },
      "execution_count": 10,
      "outputs": [
        {
          "output_type": "stream",
          "name": "stdout",
          "text": [
            "Os pontos totais do Rodrigo são 22\n"
          ]
        }
      ]
    },
    {
      "cell_type": "markdown",
      "source": [
        "## Aula 3"
      ],
      "metadata": {
        "id": "1XGBgV9hfFyK"
      }
    },
    {
      "cell_type": "markdown",
      "source": [
        "A turma do segundo ano encontrou um envelope cheio de figurinhas. Para garantir uma divisão justa, todos concordaram com a sugestão de João, o dono do envelope. Cada amigo, exceto João, deve receber exatamente o mesmo número de figurinhas. João deve receber o dobro da quantidade que cada amigo recebe. Pode ser que o fato de João ser o dono do envelope tenha ajudado a convencer os amigos, mas também contribui o fato de que, do jeito proposto, a divisão era exata, sem sobrar nem faltar figurinhas."
      ],
      "metadata": {
        "id": "lwymfbZVfIea"
      }
    },
    {
      "cell_type": "code",
      "source": [
        "total_de_figurinhas = int(input(\"Digite o total de figurinhas: \"))\n",
        "numero_de_amigos = int(input(\"Digite o número de amigos: \"))"
      ],
      "metadata": {
        "colab": {
          "base_uri": "https://localhost:8080/"
        },
        "id": "k0M8GU-va_Zc",
        "outputId": "13e534b9-d2f6-4c7a-faa3-be3362235e8e"
      },
      "execution_count": 11,
      "outputs": [
        {
          "name": "stdout",
          "output_type": "stream",
          "text": [
            "Digite o total de figurinhas: 100\n",
            "Digite o número de amigos: 5\n"
          ]
        }
      ]
    },
    {
      "cell_type": "code",
      "source": [
        "figurinhas_amigos = total_de_figurinhas // (numero_de_amigos + 2)\n",
        "figurinhas_joao = 2 * figurinhas_amigos\n",
        "print(\"João recebeu\", figurinhas_joao, \"figurinhas\")"
      ],
      "metadata": {
        "colab": {
          "base_uri": "https://localhost:8080/"
        },
        "id": "U58Bk5QbepOY",
        "outputId": "05bf9b99-bd35-43d3-a2d5-037a63de010d"
      },
      "execution_count": 12,
      "outputs": [
        {
          "output_type": "stream",
          "name": "stdout",
          "text": [
            "João recebeu 28 figurinhas\n"
          ]
        }
      ]
    },
    {
      "cell_type": "markdown",
      "source": [
        "## Aula 4"
      ],
      "metadata": {
        "id": "rqOnE0oEjITv"
      }
    },
    {
      "cell_type": "markdown",
      "source": [
        "A turma de um colégio está organizando uma excursão para a serra e, para chegar ao pico da montanha, todos os alunos e monitores devem usar um bondinho. No entanto, a cabine do bondinho tem uma capacidade máxima de 50 pessoas por viagem. Precisamos criar um programa que verifique se todos os alunos e monitores podem ser transportados em apenas uma viagem."
      ],
      "metadata": {
        "id": "vpZa0x1BiqxY"
      }
    },
    {
      "cell_type": "code",
      "source": [
        "numero_de_alunos = int(input(\"Digite a quantidade de alunos: \"))\n",
        "numero_de_monitores = int(input(\"Digite a quantidade de monitores: \"))\n",
        "resposta_positiva = \"sim, pode ir\"\n",
        "resposta_negativa = \"não pode ir\"\n",
        "if numero_de_alunos + numero_de_monitores <= 50:\n",
        "    print(resposta_positiva)\n",
        "else:\n",
        "    print(resposta_negativa)\n",
        "\n"
      ],
      "metadata": {
        "colab": {
          "base_uri": "https://localhost:8080/"
        },
        "id": "exACHHW1iuva",
        "outputId": "492a9b90-7087-404f-beab-4e801dc7fb3a"
      },
      "execution_count": 15,
      "outputs": [
        {
          "output_type": "stream",
          "name": "stdout",
          "text": [
            "Digite a quantidade de alunos: 20\n",
            "Digite a quantidade de monitores: 10\n",
            "sim, pode ir\n"
          ]
        }
      ]
    },
    {
      "cell_type": "markdown",
      "source": [
        "## Aula 5\n"
      ],
      "metadata": {
        "id": "YQwoLfQUmgfh"
      }
    },
    {
      "cell_type": "markdown",
      "source": [
        "Flipper é um jogo em que uma bolinha de metal cai por um labirinto até chegar à parte inferior. O jogador ganha pontos dependendo do caminho que a bolinha percorre, podendo controlar o trajeto movendo algumas portinhas no labirinto. Cada portinha pode estar em duas posições: 0, virada para a esquerda, ou 1, virada para a direita. No Flipper mostrado na imagem, há duas portinhas. A portinha P está na posição 1, virada para a direita, e a portinha R está na posição 0, virada para a esquerda. Isso faz com que a bolinha caia no caminho B."
      ],
      "metadata": {
        "id": "HEGwsQnNmyex"
      }
    },
    {
      "cell_type": "markdown",
      "source": [
        "Primeiro, precisamos obter os valores de entrada: as posições das portinhas P e R. Vamos criar uma célula de código e definir P como um valor inteiro, 0 ou 1. Utilizaremos a função int com input para solicitar ao usuário que digite a posição da portinha, indicando que deve ser 0 ou 1, para evitar confusões. Faremos o mesmo para a variável R."
      ],
      "metadata": {
        "id": "t7LqRDyhm3jk"
      }
    }
  ]
}